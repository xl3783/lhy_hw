{
 "cells": [
  {
   "cell_type": "code",
   "execution_count": 3,
   "metadata": {},
   "outputs": [],
   "source": [
    "import numpy as np\n",
    "import pandas as pd\n"
   ]
  },
  {
   "cell_type": "code",
   "execution_count": 25,
   "metadata": {},
   "outputs": [],
   "source": [
    "class Xl_Regression:\n",
    "    def __init__(self, iterations=10001):\n",
    "#         self.params_w = np.ones(len(data_x[0])) * 2\n",
    "#         self.param_b = 1\n",
    "        self.learning_rate = 1.0\n",
    "#         self.lr_b = 0\n",
    "#         self.lr_w = np.zeros(len(self.params_w))\n",
    "        iterations = iterations\n",
    "        self.fit = False\n",
    "    \n",
    "    def param_grad(self, x_train_data, y_train_data, params_w, param_b):\n",
    "        w_grad = np.zeros(len(params_w))\n",
    "        b_grad = 0.0\n",
    "        for index_y in range(len(y_train_data)):\n",
    "            total_y_cal = 0.0\n",
    "            for index_w in range(len(params_w)):\n",
    "                total_y_cal += param_b + params_w[index_w] * x_train_data[index_y][index_w]\n",
    "            # 计算每个w的梯度\n",
    "            for index_w in range(len(params_w)):\n",
    "                w_grad[index_w] -= 2 * (y_train_data[index_y] - total_y_cal) * x_train_data[index_y][index_w]\n",
    "            # 计算b的梯度\n",
    "            b_grad -= 2 * (y_train_data[index_y] - total_y_cal)\n",
    "        return (w_grad, b_grad)\n",
    "        \n",
    "    def fit(self, X_train, y_train):\n",
    "        self.fit = True\n",
    "        self.params_w = np.ones(len(X_train[0])) * 2\n",
    "        self.param_b = 1\n",
    "        lr_b = 0\n",
    "        lr_w = np.zeros(len(self.params_w))\n",
    "        for i in range(self.iterations):\n",
    "            w_grad, b_grad = self.param_grad(X_train, y_train, self.params_w, self.param_b)\n",
    "            lr_b = lr_b + b_grad ** 2\n",
    "            for index_w in range(len(w_grad)):\n",
    "                lr_w[index_w] = lr_w[index_w] + w_grad[index_w] ** 2\n",
    "                self.params_w[index_w] -= learning_rate / np.sqrt(lr_w[index_w]) * w_grad[index_w]\n",
    "            self.param_b -= learning_rate / np.sqrt(lr_b) * b_grad\n",
    "            # get loss\n",
    "            if i % 50 == 0:\n",
    "                loss = 0.0\n",
    "                for index_y in range(len(y_train_data)):\n",
    "                    total_y_cal = 0.0\n",
    "                    for index_w in range(len(params_w)):\n",
    "                        total_y_cal += param_b + params_w[index_w] * x_train_data[index_y][index_w]\n",
    "                    loss += (y_train_data[index_y] - total_y_cal) ** 2\n",
    "                print(\"index: %d, loss: %f\" % (i, loss))\n",
    "        \n",
    "    def predict(self, X_test):\n",
    "        return X_test * self.params_w + self.param_b\n",
    "    "
   ]
  },
  {
   "cell_type": "code",
   "execution_count": null,
   "metadata": {},
   "outputs": [],
   "source": [
    "# 数据处理\n",
    "# 读取数据\n",
    "df_train = pd.read_csv('./ml2020spring-hw1/train.csv',encoding ='big5')\n",
    "# 按每天的数据进行分割\n",
    "df_subs = []\n",
    "split_size = 18\n",
    "days = 4320 / split_size\n",
    "for index in range(int(days)):\n",
    "    begin = split_size * index\n",
    "    end = begin + split_size\n",
    "    df_subs.append(df.iloc[begin: end])\n",
    "# 合并为新的格式\n",
    "df_append = pd.DataFrame()\n",
    "for df_day in df_subs:\n",
    "    df_day.set_index('測項', inplace=True, drop=False)\n",
    "    df_append = df_append.append(df_day.iloc[:, 3:-1].stack().unstack(0))\n",
    "\n",
    "column_list = ['AMB_TEMP', 'CH4', 'CO', 'NMHC', 'NO', 'NO2', \n",
    "                                  'NOx', 'O3', 'PM10', 'PM2.5', 'RAINFALL', 'RH', \n",
    "                                  'SO2', 'THC', 'WD_HR', 'WIND_DIREC', 'WIND_SPEED', 'WS_HR']\n",
    "# 将object转为float\n",
    "for col in column_list:\n",
    "    if col != 'RAINFALL':\n",
    "        print(col)\n",
    "        df_append[col] = df_append[col].astype('float64')\n",
    "# 将'NR'转为0\n",
    "df_append.loc[df_append[\"RAINFALL\"] =='NR', 'RAINFALL'] = 0\n",
    "df_append['RAINFALL'] = df_append['RAINFALL'].astype('float64')\n",
    "# 归一化\n",
    "df_to_one = (df_append- df_append.min()) / (df_append.max() - df_append.min())\n",
    "\n",
    "# 处理test数据集\n",
    "df_test = pd.read_csv('./ml2020spring-hw1/test.csv',encoding ='big5', header=None)\n",
    "df_test = df_test.loc[df_test[1] !='RAINFALL'] # 去掉'RAINFALL'\n",
    "for i in range(2,11):\n",
    "    df_test[i] = df_test[i].astype('float64')\n",
    "column_list = ['NO', 'NO2', 'NOx', 'O3', 'PM2.5']\n",
    "test_x_list = []\n",
    "for col in column_list:\n",
    "    df_col_test_x = df_test.loc[df_test[1] ==col, 2:]\n",
    "    # test归一化\n",
    "    df_col_test_x = (df_col_test_x - df_append.min()[col]) / (df_append.max()[col] - df_append.min()[col])\n",
    "    test_x_list.append(df_col_test_x.to_numpy())\n"
   ]
  },
  {
   "cell_type": "code",
   "execution_count": 40,
   "metadata": {},
   "outputs": [
    {
     "data": {
      "text/plain": [
       "0     id_99\n",
       "1     WS_HR\n",
       "2       358\n",
       "3       357\n",
       "4       358\n",
       "5       357\n",
       "6       354\n",
       "7       359\n",
       "8       358\n",
       "9       359\n",
       "10      356\n",
       "dtype: object"
      ]
     },
     "execution_count": 40,
     "metadata": {},
     "output_type": "execute_result"
    }
   ],
   "source": [
    "# 与PM2.5相关的几个项, 通过前9个数据预测第10个数据的模型\n",
    "column_list = ['NO', 'NO2', 'NOx', 'O3', 'PM2.5']\n",
    "test_list = []\n",
    "model_list = []\n",
    "for col in column_list:\n",
    "    df_col_list = []\n",
    "    for i in range(10):\n",
    "        df_tmp = df_to_one[col].iloc[i:i - 10,]\n",
    "        df_tmp.reset_index(drop=True, inplace=True)\n",
    "        df_col_list.append(df_tmp)\n",
    "    df_col = pd.concat(df_col_list, axis=1)\n",
    "    rg_col = Xl_Regression()\n",
    "    rg_col.fit(df_col[range(9)].to_numpy(), df_col[9].to_numpy())\n",
    "    model_list.append(rg_col)\n",
    "\n",
    "# 训练通过其他项的数据预测PM2.5的数据的模型\n",
    "column_list = ['NO', 'NO2', 'NOx', 'O3']\n",
    "model_PM = Xl_Regression()\n",
    "model.fit(df_to_one[column_list].to_numpy(), df_to_one['PM2.5'].to_numpy())\n"
   ]
  },
  {
   "cell_type": "code",
   "execution_count": null,
   "metadata": {},
   "outputs": [],
   "source": [
    "# 预测\n",
    "test_y_list = []\n",
    "for index, model in enumerate(model_list):\n",
    "    test_y_list.append(model.predict(test_x_list[index]))\n",
    "test_x_pm = array(test_y_list[0:-1]).T\n",
    "test_y_pm = model_PM.predict(test_x_pm)\n",
    "test_y_pm = (test_y_pm + test_y_list[-1])/2\n",
    "test_y_pm = (df_append.max()['PM2.5'] - df_append.min()['PM2.5']) * test_y_pm + df_append.min()['PM2.5']\n",
    "\n",
    "    "
   ]
  },
  {
   "cell_type": "code",
   "execution_count": null,
   "metadata": {},
   "outputs": [],
   "source": [
    "df_result = pd.read_csv('./ml2020spring-hw1/sample_submission.csv',encoding ='big5')\n",
    "df_result['value'] = test_y_pm\n",
    "df_result.to_csv('./result.csv', sep=',', header=True, index=False)"
   ]
  }
 ],
 "metadata": {
  "kernelspec": {
   "display_name": "Python 3",
   "language": "python",
   "name": "python3"
  },
  "language_info": {
   "codemirror_mode": {
    "name": "ipython",
    "version": 3
   },
   "file_extension": ".py",
   "mimetype": "text/x-python",
   "name": "python",
   "nbconvert_exporter": "python",
   "pygments_lexer": "ipython3",
   "version": "3.7.4"
  }
 },
 "nbformat": 4,
 "nbformat_minor": 2
}
